{
 "cells": [
  {
   "cell_type": "code",
   "execution_count": 1,
   "metadata": {},
   "outputs": [],
   "source": [
    "# Imports\n",
    "import pandas as pd\n",
    "import os.path as osp\n",
    "import glob\n",
    "import numpy as np\n",
    "import matplotlib.pyplot as plt\n",
    "from scipy import signal\n",
    "# from preprocesser import calc_magnitude, remove_noise, add_features, extract_features, DataFrameBuilder\n",
    "from preprocesser import Preprocessor"
   ]
  },
  {
   "cell_type": "code",
   "execution_count": 2,
   "metadata": {},
   "outputs": [
    {
     "ename": "AttributeError",
     "evalue": "module 'pandas' has no attribute 'Dataframe'",
     "output_type": "error",
     "traceback": [
      "\u001b[0;31m---------------------------------------------------------------------------\u001b[0m",
      "\u001b[0;31mAttributeError\u001b[0m                            Traceback (most recent call last)",
      "Cell \u001b[0;32mIn[2], line 5\u001b[0m\n\u001b[1;32m      1\u001b[0m \u001b[39m# df = pd.read_csv(\"/Users/joshuagu/CICS328_Assignments/cs328-projectproposal-group-2/data/walking/abnormal/limp_walking/joshua_limp1_accelerometer.csv\") \u001b[39;00m\n\u001b[1;32m      2\u001b[0m \u001b[39m# df = pd.read_csv(\"/Users/joshuagu/CICS328_Assignments/cs328-projectproposal-group-2/data/walking/abnormal/limp_walking/joshua_limp1_gyroscope.csv\") \u001b[39;00m\n\u001b[1;32m      3\u001b[0m df \u001b[39m=\u001b[39m pd\u001b[39m.\u001b[39mread_csv(\u001b[39m\"\u001b[39m\u001b[39m../data/walking/abnormal/limp_walking/joshua_limp1_gyroscope.csv\u001b[39m\u001b[39m\"\u001b[39m) \n\u001b[0;32m----> 5\u001b[0m final_df \u001b[39m=\u001b[39m DataFrameBuilder(df, \u001b[39m100\u001b[39;49m)\u001b[39m.\u001b[39;49mcalc_magnitude(\u001b[39m\"\u001b[39;49m\u001b[39maccel_mag\u001b[39;49m\u001b[39m\"\u001b[39;49m)\u001b[39m.\u001b[39;49mremove_noise(\u001b[39m\"\u001b[39;49m\u001b[39maccel_mag\u001b[39;49m\u001b[39m\"\u001b[39;49m, \u001b[39m\"\u001b[39;49m\u001b[39mfiltered_accel_mag\u001b[39;49m\u001b[39m\"\u001b[39;49m)\u001b[39m.\u001b[39;49madd_features(\u001b[39m\"\u001b[39;49m\u001b[39mfiltered_accel_mag\u001b[39;49m\u001b[39m\"\u001b[39;49m)\u001b[39m.\u001b[39mfinish_build()\n\u001b[1;32m      6\u001b[0m \u001b[39m# final_df = DataFrameBuilder(df, 100).calc_magnitude(\"accel_mag\").remove_noise(\"accel_mag\", \"filtered_accel_mag\").finish_build()\u001b[39;00m\n\u001b[1;32m      7\u001b[0m \n\u001b[1;32m      8\u001b[0m \u001b[39m# print(final_df[\"accel_mag\"].mean())\u001b[39;00m\n\u001b[1;32m      9\u001b[0m \u001b[39m# print(\"\")\u001b[39;00m\n\u001b[1;32m     10\u001b[0m \u001b[39m# print(final_df[\"filtered_accel_mag\"].mean())\u001b[39;00m\n\u001b[1;32m     12\u001b[0m final_df\u001b[39m.\u001b[39mplot(x\u001b[39m=\u001b[39m\u001b[39m\"\u001b[39m\u001b[39mtime\u001b[39m\u001b[39m\"\u001b[39m, y \u001b[39m=\u001b[39m \u001b[39m\"\u001b[39m\u001b[39mfiltered_accel_mag\u001b[39m\u001b[39m\"\u001b[39m)\n",
      "File \u001b[0;32m~/CICS328_Assignments/cs328-projectproposal-group-2/src/preprocesser.py:58\u001b[0m, in \u001b[0;36mDataFrameBuilder.add_features\u001b[0;34m(self, column_name)\u001b[0m\n\u001b[1;32m     44\u001b[0m \u001b[39m\u001b[39m\u001b[39m\"\"\"\u001b[39;00m\n\u001b[1;32m     45\u001b[0m \u001b[39mAdds features mean, max, med, min, q25, q75, and std \u001b[39;00m\n\u001b[1;32m     46\u001b[0m \u001b[39mNOTE: Erases all other columns on returned object, store original DataFrameBuilder in variable if want to access original labels\u001b[39;00m\n\u001b[1;32m     47\u001b[0m \u001b[39m\"\"\"\u001b[39;00m\n\u001b[1;32m     48\u001b[0m data \u001b[39m=\u001b[39m {\n\u001b[1;32m     49\u001b[0m     \u001b[39m'\u001b[39m\u001b[39mmean\u001b[39m\u001b[39m'\u001b[39m: [\u001b[39mself\u001b[39m\u001b[39m.\u001b[39mdataframe[column_name]\u001b[39m.\u001b[39mmean()], \n\u001b[1;32m     50\u001b[0m     \u001b[39m'\u001b[39m\u001b[39mmax\u001b[39m\u001b[39m'\u001b[39m: [\u001b[39mself\u001b[39m\u001b[39m.\u001b[39mdataframe[column_name]\u001b[39m.\u001b[39mmax()],\n\u001b[0;32m   (...)\u001b[0m\n\u001b[1;32m     56\u001b[0m     \u001b[39m'\u001b[39m\u001b[39mvariance\u001b[39m\u001b[39m'\u001b[39m: [\u001b[39mself\u001b[39m\u001b[39m.\u001b[39mdataframe[column_name]\u001b[39m.\u001b[39mvar()]\n\u001b[1;32m     57\u001b[0m }\n\u001b[0;32m---> 58\u001b[0m \u001b[39mreturn\u001b[39;00m DataFrameBuilder(pd\u001b[39m.\u001b[39;49mDataframe(data), \u001b[39mself\u001b[39m\u001b[39m.\u001b[39msample_rate)\n",
      "\u001b[0;31mAttributeError\u001b[0m: module 'pandas' has no attribute 'Dataframe'"
     ]
    }
   ],
   "source": [
    "# df = pd.read_csv(\"/Users/joshuagu/CICS328_Assignments/cs328-projectproposal-group-2/data/walking/abnormal/limp_walking/joshua_limp1_accelerometer.csv\") \n",
    "# df = pd.read_csv(\"/Users/joshuagu/CICS328_Assignments/cs328-projectproposal-group-2/data/walking/abnormal/limp_walking/joshua_limp1_gyroscope.csv\") \n",
    "df = pd.read_csv(\"../data/walking/abnormal/limp_walking/joshua_limp1_gyroscope.csv\") \n",
    "\n",
    "final_df = Preprocessor(df, 100).calc_magnitude(\"accel_mag\").remove_noise(\"accel_mag\", \"filtered_accel_mag\").add_features(\"filtered_accel_mag\").finish_build()\n",
    "# final_df = DataFrameBuilder(df, 100).calc_magnitude(\"accel_mag\").remove_noise(\"accel_mag\", \"filtered_accel_mag\").finish_build()\n",
    "\n",
    "# print(final_df[\"accel_mag\"].mean())\n",
    "# print(\"\")\n",
    "# print(final_df[\"filtered_accel_mag\"].mean())\n",
    "\n",
    "final_df.plot(x=\"time\", y = \"filtered_accel_mag\")\n",
    "plt.show()"
   ]
  },
  {
   "cell_type": "code",
   "execution_count": null,
   "metadata": {},
   "outputs": [],
   "source": [
    "SAMPLING_RATE = 100"
   ]
  }
 ],
 "metadata": {
  "kernelspec": {
   "display_name": "CS328",
   "language": "python",
   "name": "python3"
  },
  "language_info": {
   "codemirror_mode": {
    "name": "ipython",
    "version": 3
   },
   "file_extension": ".py",
   "mimetype": "text/x-python",
   "name": "python",
   "nbconvert_exporter": "python",
   "pygments_lexer": "ipython3",
   "version": "3.12.5"
  }
 },
 "nbformat": 4,
 "nbformat_minor": 2
}
